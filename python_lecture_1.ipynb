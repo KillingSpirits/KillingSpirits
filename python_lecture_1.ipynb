{
  "nbformat": 4,
  "nbformat_minor": 0,
  "metadata": {
    "colab": {
      "provenance": [],
      "include_colab_link": true
    },
    "kernelspec": {
      "name": "python3",
      "display_name": "Python 3"
    },
    "language_info": {
      "name": "python"
    }
  },
  "cells": [
    {
      "cell_type": "markdown",
      "metadata": {
        "id": "view-in-github",
        "colab_type": "text"
      },
      "source": [
        "<a href=\"https://colab.research.google.com/github/KillingSpirits/KillingSpirits/blob/main/python_lecture_1.ipynb\" target=\"_parent\"><img src=\"https://colab.research.google.com/assets/colab-badge.svg\" alt=\"Open In Colab\"/></a>"
      ]
    },
    {
      "cell_type": "markdown",
      "source": [
        "# DATA STRUCTURE\n",
        "\n",
        "\n",
        "\n",
        "\n",
        "\n",
        "\n"
      ],
      "metadata": {
        "id": "1bgvGz2Y1chF"
      }
    },
    {
      "cell_type": "markdown",
      "source": [
        "# STRING"
      ],
      "metadata": {
        "id": "6ckaixaEc7gB"
      }
    },
    {
      "cell_type": "code",
      "source": [
        "# Strings are sequences of characters. They are immutable, meaning that once created, they cannot be changed.\n",
        "\n",
        "# Strings can be created using single quotes, double quotes, or triple quotes.\n",
        "\n",
        "my_string_1 = 'This is a string with single quotes.'\n",
        "my_string_2 = \"This is a string with double quotes.\"\n",
        "\n",
        "# Triple quotes can be used to create strings that contain multiple lines, or that contain single or double quotes.\n",
        "\n",
        "my_string_3 = \"\"\"This is a string with triple quotes.\n",
        "It can contain multiple lines.\n",
        "It can also contain single or double quotes: ' and \".\n",
        "\"\"\"\n",
        "\n",
        "# Strings can be accessed using indexing and slicing.\n",
        "\n",
        "my_string = \"Hello World\"\n",
        "\n",
        "\n",
        "print(my_string[0])\n",
        "\n",
        "\n",
        "print(my_string[-1])\n",
        "\n",
        "\n",
        "print(my_string[1:4])\n",
        "\n",
        "\n",
        "print(my_string[:5])\n",
        "\n",
        "\n",
        "print(my_string[6:])\n",
        "\n",
        "\n",
        "print(my_string[::-1])\n",
        "\n",
        "# Strings can be concatenated using the + operator.\n",
        "\n",
        "my_string_1 = \"Hello\"\n",
        "my_string_2 = \"World\"\n",
        "\n",
        "my_new_string = my_string_1 + \" \" + my_string_2\n",
        "\n",
        "print(my_new_string)\n",
        "\n",
        "# Strings can be formatted using the format() method.\n",
        "\n",
        "my_string = \"My name is {name} and I am {age} years old.\".format(name=\"John\", age=30)\n",
        "\n",
        "print(my_string)"
      ],
      "metadata": {
        "colab": {
          "base_uri": "https://localhost:8080/"
        },
        "id": "tUxgJJ9edBwX",
        "outputId": "5e362bad-ec8b-450f-fbf5-a9c76888b999"
      },
      "execution_count": 1,
      "outputs": [
        {
          "output_type": "stream",
          "name": "stdout",
          "text": [
            "H\n",
            "d\n",
            "ell\n",
            "Hello\n",
            "World\n",
            "dlroW olleH\n",
            "Hello World\n",
            "My name is John and I am 30 years old.\n"
          ]
        }
      ]
    },
    {
      "cell_type": "markdown",
      "source": [
        "##LIST\n",
        "\n",
        "\n",
        "```\n",
        "Lists are ordered collections of items that can be changed (mutable). They support various operations, slicing, and methods for manipulation.\n",
        "```\n",
        "\n"
      ],
      "metadata": {
        "id": "UKScwy8y12ar"
      }
    },
    {
      "cell_type": "code",
      "source": [
        "# Create a list with multiple elements\n",
        "my_list = [1, 2, 3, 4, 5]\n",
        "\n",
        "# Access the first element\n",
        "print(my_list[0])\n",
        "\n",
        "# Access the last element\n",
        "print(my_list[-1])\n",
        "\n",
        "# Add an element to the end of the list\n",
        "my_list.append(6)\n",
        "print(my_list)\n",
        "\n",
        "# Insert an element at a specific index\n",
        "my_list.insert(2, 10)\n",
        "print(my_list)\n",
        "\n",
        "# Remove an element by value\n",
        "my_list.remove(10)\n",
        "print(my_list)\n",
        "\n",
        "# Remove an element by index\n",
        "del my_list[2]\n",
        "print(my_list)\n",
        "\n",
        "# Sort the list in ascending order\n",
        "my_list.sort()\n",
        "print(my_list)\n",
        "\n",
        "# Reverse the order of elements\n",
        "my_list.reverse()\n",
        "print(my_list)\n",
        "\n",
        "# Extend the list by appending another list\n",
        "another_list = [7, 8, 9]\n",
        "my_list.extend(another_list)\n",
        "print(my_list)\n",
        "\n",
        "# Remove the last element from the list\n",
        "my_list.pop()\n",
        "print(my_list)\n",
        "\n",
        "# Reverse the order of elements\n",
        "my_list.reverse()\n",
        "print(my_list)\n",
        "\n",
        "# Sort the list in ascending order\n",
        "my_list.sort()\n",
        "print(my_list)"
      ],
      "metadata": {
        "colab": {
          "base_uri": "https://localhost:8080/"
        },
        "id": "UqZRVNQD4Uhp",
        "outputId": "ec6736fe-6547-40fe-b907-748c3445653f"
      },
      "execution_count": null,
      "outputs": [
        {
          "output_type": "stream",
          "name": "stdout",
          "text": [
            "1\n",
            "5\n",
            "[1, 2, 3, 4, 5, 6]\n",
            "[1, 2, 10, 3, 4, 5, 6]\n",
            "[1, 2, 3, 4, 5, 6]\n",
            "[1, 2, 4, 5, 6]\n",
            "[1, 2, 4, 5, 6]\n",
            "[6, 5, 4, 2, 1]\n",
            "[6, 5, 4, 2, 1, 7, 8, 9]\n",
            "[6, 5, 4, 2, 1, 7, 8]\n",
            "[8, 7, 1, 2, 4, 5, 6]\n",
            "[1, 2, 4, 5, 6, 7, 8]\n"
          ]
        }
      ]
    },
    {
      "cell_type": "markdown",
      "source": [
        "##TUPLES"
      ],
      "metadata": {
        "id": "7h051NVK2jl7"
      }
    },
    {
      "cell_type": "markdown",
      "source": [
        "\n",
        "\n",
        "```\n",
        "Tuples are immutable sequences, meaning their elements cannot be changed after creation. They are useful for fixed collections of items.\n",
        "```\n",
        "\n"
      ],
      "metadata": {
        "id": "-HYj6xDu2zwv"
      }
    },
    {
      "cell_type": "code",
      "source": [
        "# Create a tuple with multiple elements\n",
        "my_tuple = (1, 2, 3, 4, 5)\n",
        "\n",
        "# Access the first element\n",
        "print(my_tuple[0])\n",
        "\n",
        "# Access the last element\n",
        "print(my_tuple[-1])\n",
        "\n",
        "# Tuples are immutable, so the following line will result in an error\n",
        "# my_tuple[2] = 10\n",
        "\n",
        "# Convert a tuple to a list (mutable)\n",
        "mutable_list = list(my_tuple)\n",
        "mutable_list[2] = 10\n",
        "\n",
        "# Convert the list back to a tuple (immutable)\n",
        "immutable_tuple = tuple(mutable_list)\n",
        "print(immutable_tuple)\n",
        "\n",
        "# Count the number of occurrences of an element\n",
        "print(immutable_tuple.count(10))\n",
        "\n",
        "# Find the index of the first occurrence of an element\n",
        "print(immutable_tuple.index(10))\n",
        "\n",
        "# Concatenate two tuples\n",
        "another_tuple = (6, 7, 8)\n",
        "combined_tuple = immutable_tuple + another_tuple\n",
        "print(combined_tuple)\n",
        "\n",
        "# Repeat a tuple a specified number of times\n",
        "repeated_tuple = immutable_tuple * 3\n",
        "print(repeated_tuple)\n"
      ],
      "metadata": {
        "colab": {
          "base_uri": "https://localhost:8080/"
        },
        "id": "RTkAasjR4pql",
        "outputId": "a2ee66f3-8c4d-45c6-98e9-16541aa090f8"
      },
      "execution_count": null,
      "outputs": [
        {
          "output_type": "stream",
          "name": "stdout",
          "text": [
            "1\n",
            "5\n",
            "(1, 2, 10, 4, 5)\n",
            "1\n",
            "2\n",
            "(1, 2, 10, 4, 5, 6, 7, 8)\n",
            "(1, 2, 10, 4, 5, 1, 2, 10, 4, 5, 1, 2, 10, 4, 5)\n"
          ]
        }
      ]
    },
    {
      "cell_type": "markdown",
      "source": [
        "#DICTIONARY"
      ],
      "metadata": {
        "id": "ochcS-QV48v4"
      }
    },
    {
      "cell_type": "markdown",
      "source": [
        "\n",
        "\n",
        "```\n",
        "A dictionary in Python is an unordered collection of items. Each item is a key-value pair. Dictionaries are optimized to retrieve values when the key is known.\n",
        "```\n",
        "\n"
      ],
      "metadata": {
        "id": "EKE_Aub35AMy"
      }
    },
    {
      "cell_type": "code",
      "source": [
        "# Dictionaries are collections of key-value pairs, where each unique key maps to a specific value.\n",
        "# They are unordered and mutable, meaning their elements can be changed.\n",
        "\n",
        "# Creating a dictionary\n",
        "my_dict = {\"name\": \"John\", \"age\": 30, \"city\": \"New York\"}\n",
        "\n",
        "# Accessing values by key\n",
        "print(my_dict[\"name\"])  # Output: John\n",
        "\n",
        "# Adding a new key-value pair\n",
        "my_dict[\"profession\"] = \"Software Engineer\"\n",
        "\n",
        "# Modifying an existing value\n",
        "my_dict[\"age\"] = 31\n",
        "\n",
        "# Removing a key-value pair\n",
        "del my_dict[\"city\"]\n",
        "\n",
        "# Iterating through a dictionary\n",
        "for key, value in my_dict.items():\n",
        "    print(f\"{key}: {value}\")\n",
        "\n",
        "# Checking if a key exists in a dictionary\n",
        "if \"name\" in my_dict:\n",
        "    print(\"Name exists in the dictionary\")\n"
      ],
      "metadata": {
        "colab": {
          "base_uri": "https://localhost:8080/"
        },
        "id": "fXYDni0J39sy",
        "outputId": "638824e2-6f5f-42fc-c313-1e546bcfae63"
      },
      "execution_count": null,
      "outputs": [
        {
          "output_type": "stream",
          "name": "stdout",
          "text": [
            "John\n",
            "name: John\n",
            "age: 31\n",
            "profession: Software Engineer\n",
            "Name exists in the dictionary\n"
          ]
        }
      ]
    },
    {
      "cell_type": "markdown",
      "source": [
        "# PACKAGE AND MODULE"
      ],
      "metadata": {
        "id": "K3Qaxc6f5Uay"
      }
    },
    {
      "cell_type": "code",
      "source": [
        "# Package: A package is a collection of modules. It provides a way to organize and group related modules together.\n",
        "# Module: A module is a single Python file containing functions, classes, and variables. It can be imported and used in other Python programs.\n",
        "\n",
        "# Example:\n",
        "# Create a package named \"mypackage\" with a module named \"mymodule.py\" inside it.\n",
        "\n",
        "# mypackage/\n",
        "#   __init__.py\n",
        "#   mymodule.py\n",
        "\n",
        "# __init__.py: This file indicates that the directory is a Python package. It can also contain initialization code for the package.\n",
        "\n",
        "# mymodule.py: This file contains the actual Python code for the module.\n",
        "\n",
        "# Code inside mymodule.py:\n",
        "def greet(name):\n",
        "  \"\"\"\n",
        "  This function takes a name as input and returns a greeting message.\n",
        "  \"\"\"\n",
        "  return f\"Hello, {name}!\"\n",
        "\n",
        "# To use the function from another Python program:\n",
        "# import mypackage.mymodule as mymod\n",
        "\n",
        "# Call the greet function from the imported module:\n",
        "# print(mymod.greet(\"Alice\"))  # Output: Hello, Alice!\n"
      ],
      "metadata": {
        "id": "c0StS_0W4QVU"
      },
      "execution_count": null,
      "outputs": []
    }
  ]
}